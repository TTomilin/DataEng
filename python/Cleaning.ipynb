{
 "cells": [
  {
   "cell_type": "code",
   "execution_count": 1,
   "metadata": {},
   "outputs": [],
   "source": [
    "import pandas as pd\n",
    "#df = pd.read_excel('time_series.xlsx', sheet_name='60min')"
   ]
  },
  {
   "cell_type": "code",
   "execution_count": 2,
   "metadata": {},
   "outputs": [],
   "source": [
    "df = pd.read_csv('data/time_series_60min_stacked.csv')"
   ]
  },
  {
   "cell_type": "code",
   "execution_count": 3,
   "metadata": {},
   "outputs": [],
   "source": [
    "#Which vairiable + attribute combos have the most data\n",
    "#df.groupby(['variable','attribute']).count().sort_values(by='data', ascending=False)"
   ]
  },
  {
   "cell_type": "code",
   "execution_count": 20,
   "metadata": {},
   "outputs": [],
   "source": [
    "subset_columns = df[(df['variable'].isin(['wind','solar'])) & (df['attribute'].isin(['capacity']))]"
   ]
  },
  {
   "cell_type": "code",
   "execution_count": 69,
   "metadata": {},
   "outputs": [],
   "source": [
    "wind = df[(df['variable'].isin(['wind_onshore'])) & (df['attribute'].isin(['generation_actual']))]\n",
    "solar = df[(df['variable'].isin(['solar'])) & (df['attribute'].isin(['generation_actual']))]"
   ]
  },
  {
   "cell_type": "code",
   "execution_count": 70,
   "metadata": {},
   "outputs": [],
   "source": [
    "#which countries have the most data?\n",
    "#subset_columns.groupby('region').count().sort_values(by='data',ascending=False)"
   ]
  },
  {
   "cell_type": "code",
   "execution_count": 48,
   "metadata": {},
   "outputs": [
    {
     "data": {
      "text/plain": [
       "(39,)"
      ]
     },
     "execution_count": 48,
     "metadata": {},
     "output_type": "execute_result"
    }
   ],
   "source": [
    "solar.region.unique().shape"
   ]
  },
  {
   "cell_type": "code",
   "execution_count": 72,
   "metadata": {},
   "outputs": [
    {
     "data": {
      "text/plain": [
       "(59,)"
      ]
     },
     "execution_count": 72,
     "metadata": {},
     "output_type": "execute_result"
    }
   ],
   "source": [
    "wind.region.unique().shape"
   ]
  },
  {
   "cell_type": "code",
   "execution_count": 77,
   "metadata": {},
   "outputs": [],
   "source": [
    "wind_countries = wind#[wind['region'].isin(['DK','DE','SE','GB','IT','AT','CZ','FR','BR','PT','ES','EE','NL'])]\n",
    "solar_countries = solar#[solar['region'].isin(['DK','DE','SE','GB','IT','AT','CZ','FR','BR','PT','ES','EE','NL'])]"
   ]
  },
  {
   "cell_type": "code",
   "execution_count": 78,
   "metadata": {},
   "outputs": [
    {
     "name": "stderr",
     "output_type": "stream",
     "text": [
      "/Users/elizastarr/anaconda3/envs/datamining/lib/python3.7/site-packages/ipykernel_launcher.py:1: SettingWithCopyWarning: \n",
      "A value is trying to be set on a copy of a slice from a DataFrame.\n",
      "Try using .loc[row_indexer,col_indexer] = value instead\n",
      "\n",
      "See the caveats in the documentation: https://pandas.pydata.org/pandas-docs/stable/user_guide/indexing.html#returning-a-view-versus-a-copy\n",
      "  \"\"\"Entry point for launching an IPython kernel.\n",
      "/Users/elizastarr/anaconda3/envs/datamining/lib/python3.7/site-packages/ipykernel_launcher.py:2: SettingWithCopyWarning: \n",
      "A value is trying to be set on a copy of a slice from a DataFrame.\n",
      "Try using .loc[row_indexer,col_indexer] = value instead\n",
      "\n",
      "See the caveats in the documentation: https://pandas.pydata.org/pandas-docs/stable/user_guide/indexing.html#returning-a-view-versus-a-copy\n",
      "  \n"
     ]
    }
   ],
   "source": [
    "wind_countries['region_variable_attribute'] = wind_countries['region']+wind_countries['variable']+wind_countries['attribute']\n",
    "solar_countries['region_variable_attribute'] = solar_countries['region']+solar_countries['variable']+solar_countries['attribute']\n"
   ]
  },
  {
   "cell_type": "code",
   "execution_count": 79,
   "metadata": {},
   "outputs": [
    {
     "name": "stderr",
     "output_type": "stream",
     "text": [
      "/Users/elizastarr/anaconda3/envs/datamining/lib/python3.7/site-packages/ipykernel_launcher.py:1: SettingWithCopyWarning: \n",
      "A value is trying to be set on a copy of a slice from a DataFrame.\n",
      "Try using .loc[row_indexer,col_indexer] = value instead\n",
      "\n",
      "See the caveats in the documentation: https://pandas.pydata.org/pandas-docs/stable/user_guide/indexing.html#returning-a-view-versus-a-copy\n",
      "  \"\"\"Entry point for launching an IPython kernel.\n",
      "/Users/elizastarr/anaconda3/envs/datamining/lib/python3.7/site-packages/ipykernel_launcher.py:2: SettingWithCopyWarning: \n",
      "A value is trying to be set on a copy of a slice from a DataFrame.\n",
      "Try using .loc[row_indexer,col_indexer] = value instead\n",
      "\n",
      "See the caveats in the documentation: https://pandas.pydata.org/pandas-docs/stable/user_guide/indexing.html#returning-a-view-versus-a-copy\n",
      "  \n"
     ]
    }
   ],
   "source": [
    "wind_countries['timestamp'] = pd.to_datetime(wind_countries['utc_timestamp'], format='%Y-%m-%dT%H:%M:%SZ')\n",
    "solar_countries['timestamp'] = pd.to_datetime(solar_countries['utc_timestamp'], format='%Y-%m-%dT%H:%M:%SZ')"
   ]
  },
  {
   "cell_type": "markdown",
   "metadata": {},
   "source": [
    "Make data a float"
   ]
  },
  {
   "cell_type": "code",
   "execution_count": 163,
   "metadata": {},
   "outputs": [
    {
     "name": "stderr",
     "output_type": "stream",
     "text": [
      "/Users/elizastarr/anaconda3/envs/datamining/lib/python3.7/site-packages/ipykernel_launcher.py:1: SettingWithCopyWarning: \n",
      "A value is trying to be set on a copy of a slice from a DataFrame.\n",
      "Try using .loc[row_indexer,col_indexer] = value instead\n",
      "\n",
      "See the caveats in the documentation: https://pandas.pydata.org/pandas-docs/stable/user_guide/indexing.html#returning-a-view-versus-a-copy\n",
      "  \"\"\"Entry point for launching an IPython kernel.\n"
     ]
    }
   ],
   "source": [
    "wind_countries['data']=wind_countries['data'].astype('float')"
   ]
  },
  {
   "cell_type": "markdown",
   "metadata": {},
   "source": [
    "Pivot the tables"
   ]
  },
  {
   "cell_type": "code",
   "execution_count": 164,
   "metadata": {},
   "outputs": [],
   "source": [
    "wind_pivot=wind_countries.pivot(index='timestamp', columns='region', values='data')#.fillna(0)\n",
    "solar_pivot=solar_countries.pivot(index='timestamp', columns='region', values='data')#.fillna(0)"
   ]
  },
  {
   "cell_type": "markdown",
   "metadata": {},
   "source": [
    "When do most countries start recording their data?"
   ]
  },
  {
   "cell_type": "code",
   "execution_count": 165,
   "metadata": {},
   "outputs": [],
   "source": [
    "# mean earliest record start time. Exclude the years before this date.\n",
    "wind_start_time = wind_countries.groupby('region').min()['timestamp'].mean()"
   ]
  },
  {
   "cell_type": "code",
   "execution_count": 166,
   "metadata": {},
   "outputs": [],
   "source": [
    "# mean earliest record start time. Exclude the years before this date. About the same as wind\n",
    "solar_start_time = solar_countries.groupby('region').min()['timestamp'].mean()"
   ]
  },
  {
   "cell_type": "code",
   "execution_count": 167,
   "metadata": {},
   "outputs": [
    {
     "data": {
      "text/plain": [
       "timestamp\n",
       "2010     24168\n",
       "2011     43792\n",
       "2012     83053\n",
       "2013     88208\n",
       "2014    107474\n",
       "2015    331112\n",
       "2016    324245\n",
       "2017    323842\n",
       "2018    323419\n",
       "2019     92806\n",
       "dtype: int64"
      ]
     },
     "execution_count": 167,
     "metadata": {},
     "output_type": "execute_result"
    }
   ],
   "source": [
    "# number of rows per year relative to the highest recorded year\n",
    "# supports the dates above more or less. Perhaps it'd also be good to start the record at 2015\n",
    "\n",
    "solar_pivot.groupby(solar_pivot.index.year).count().sum(axis=1)"
   ]
  },
  {
   "cell_type": "markdown",
   "metadata": {},
   "source": [
    "Take a subset of the time"
   ]
  },
  {
   "cell_type": "code",
   "execution_count": 238,
   "metadata": {},
   "outputs": [],
   "source": [
    "wind_subset_time = wind_pivot[wind_pivot.index >= wind_start_time]\n",
    "solar_subset_time = wind_pivot[wind_pivot.index >= solar_start_time]"
   ]
  },
  {
   "cell_type": "code",
   "execution_count": 239,
   "metadata": {},
   "outputs": [
    {
     "data": {
      "text/plain": [
       "\"\\nwind_final = wind_subset_time.groupby(pd.Grouper(freq='h')).mean()\\nsolar_final = solar_subset_time.groupby(pd.Grouper(freq='h')).mean()\\n\""
      ]
     },
     "execution_count": 239,
     "metadata": {},
     "output_type": "execute_result"
    }
   ],
   "source": [
    "# not enough rows if we group by day. Grouping by hours, which is redundant\n",
    "'''\n",
    "wind_final = wind_subset_time.groupby(pd.Grouper(freq='h')).mean()\n",
    "solar_final = solar_subset_time.groupby(pd.Grouper(freq='h')).mean()\n",
    "'''"
   ]
  },
  {
   "cell_type": "markdown",
   "metadata": {},
   "source": [
    "#### Solar"
   ]
  },
  {
   "cell_type": "markdown",
   "metadata": {},
   "source": [
    "Summing and dropping the country regions where necessary\n",
    "\n",
    "- Dropping bidding and control regions of: IT, DE, DK, IE (includes northern Ireland which is UK not IE), NO, SE\n",
    "- Summing and dropping regions: GB\n",
    "  - sum['GB_GBN', 'GB_NIR', 'GB_UKM'] --> 'GB'"
   ]
  },
  {
   "cell_type": "code",
   "execution_count": 250,
   "metadata": {},
   "outputs": [],
   "source": [
    "#solar_subset_time.isnull().sum(axis=0)"
   ]
  },
  {
   "cell_type": "code",
   "execution_count": 241,
   "metadata": {},
   "outputs": [],
   "source": [
    "#select column names excluding the country name, only control and bidding zones\n",
    "DE_cols = [col for col in solar_subset_time.columns if 'DE' in col][1:]\n",
    "DK_cols = [col for col in solar_subset_time.columns if 'DK' in col][1:]\n",
    "IT_cols = [col for col in solar_subset_time.columns if 'IT' in col][1:]\n",
    "GB_cols = [col for col in solar_subset_time.columns if 'GB' in col]\n",
    "IE_cols = [col for col in solar_subset_time.columns if 'IE' in col][1:]\n",
    "NO_cols = [col for col in solar_subset_time.columns if 'NO' in col][1:]\n",
    "SE_cols = [col for col in solar_subset_time.columns if 'SE' in col][1:]"
   ]
  },
  {
   "cell_type": "code",
   "execution_count": 242,
   "metadata": {
    "scrolled": true
   },
   "outputs": [
    {
     "name": "stderr",
     "output_type": "stream",
     "text": [
      "/Users/elizastarr/anaconda3/envs/datamining/lib/python3.7/site-packages/ipykernel_launcher.py:2: SettingWithCopyWarning: \n",
      "A value is trying to be set on a copy of a slice from a DataFrame.\n",
      "Try using .loc[row_indexer,col_indexer] = value instead\n",
      "\n",
      "See the caveats in the documentation: https://pandas.pydata.org/pandas-docs/stable/user_guide/indexing.html#returning-a-view-versus-a-copy\n",
      "  \n"
     ]
    }
   ],
   "source": [
    "# new GB column\n",
    "solar_subset_time['GB'] = solar_subset_time[GB_cols].sum(axis=1)"
   ]
  },
  {
   "cell_type": "code",
   "execution_count": 289,
   "metadata": {},
   "outputs": [],
   "source": [
    "solar_semi_final = solar_subset_time.drop(columns=DE_cols+DK_cols+IT_cols+GB_cols+IE_cols+NO_cols+SE_cols)"
   ]
  },
  {
   "cell_type": "markdown",
   "metadata": {},
   "source": [
    "Drop countries that still have too many null values by finding a threshold"
   ]
  },
  {
   "cell_type": "code",
   "execution_count": 290,
   "metadata": {},
   "outputs": [
    {
     "data": {
      "text/plain": [
       "region\n",
       "NL    0.997238\n",
       "ME    0.825663\n",
       "IT    0.635276\n",
       "MK    0.504197\n",
       "BE    0.366116\n",
       "CY    0.287277\n",
       "IE    0.260983\n",
       "HU    0.206285\n",
       "LT    0.192171\n",
       "CH    0.180513\n",
       "RO    0.177273\n",
       "SI    0.174902\n",
       "BG    0.174772\n",
       "GR    0.173597\n",
       "SE    0.172706\n",
       "LV    0.171248\n",
       "EE    0.168573\n",
       "FI    0.168465\n",
       "ES    0.168356\n",
       "PT    0.162288\n",
       "PL    0.015724\n",
       "FR    0.015702\n",
       "DK    0.014158\n",
       "DE    0.000130\n",
       "CZ    0.000065\n",
       "GB    0.000000\n",
       "AT    0.000000\n",
       "dtype: float64"
      ]
     },
     "execution_count": 290,
     "metadata": {},
     "output_type": "execute_result"
    }
   ],
   "source": [
    "# Require that each country have this many non-NA values.\n",
    "# threshold = must have fewer than 20% missing values\n",
    "# drop NL, ME, IT, MK, BE, CY, IE, and HU\n",
    "solar_semi_final.isnull().sum().sort_values(ascending=False)/solar_final.shape[0]#.mean()"
   ]
  },
  {
   "cell_type": "code",
   "execution_count": 285,
   "metadata": {},
   "outputs": [],
   "source": [
    "solar_final = solar_semi_final.drop(columns=['NL','ME','IT','MK','BE','CY','IE','HU'])"
   ]
  },
  {
   "cell_type": "code",
   "execution_count": 286,
   "metadata": {},
   "outputs": [],
   "source": [
    "# fill missing values\n",
    "solar_final.fillna(0.0, inplace=True)"
   ]
  },
  {
   "cell_type": "markdown",
   "metadata": {},
   "source": [
    "#### Wind"
   ]
  },
  {
   "cell_type": "markdown",
   "metadata": {},
   "source": [
    "Summing and dropping the country regions where necessary\n",
    "\n",
    "- Dropping bidding and control regions of: IT, DE, DK, IE (includes northern Ireland which is UK not IE), NO, SE\n",
    "- Summing and dropping regions: GB\n",
    "  - sum['GB_GBN', 'GB_NIR', 'GB_UKM'] --> 'GB'"
   ]
  },
  {
   "cell_type": "code",
   "execution_count": 252,
   "metadata": {},
   "outputs": [],
   "source": [
    "#wind_subset_time.isnull().sum(axis=0)"
   ]
  },
  {
   "cell_type": "code",
   "execution_count": 253,
   "metadata": {},
   "outputs": [],
   "source": [
    "#select column names excluding the country name, only control and bidding zones\n",
    "DE_cols = [col for col in wind_subset_time.columns if 'DE' in col][1:]\n",
    "DK_cols = [col for col in wind_subset_time.columns if 'DK' in col][1:]\n",
    "IT_cols = [col for col in wind_subset_time.columns if 'IT' in col][1:]\n",
    "GB_cols = [col for col in wind_subset_time.columns if 'GB' in col]\n",
    "IE_cols = [col for col in wind_subset_time.columns if 'IE' in col][1:]\n",
    "NO_cols = [col for col in wind_subset_time.columns if 'NO' in col][1:]\n",
    "SE_cols = [col for col in wind_subset_time.columns if 'SE' in col][1:]"
   ]
  },
  {
   "cell_type": "code",
   "execution_count": 254,
   "metadata": {
    "scrolled": true
   },
   "outputs": [
    {
     "name": "stderr",
     "output_type": "stream",
     "text": [
      "/Users/elizastarr/anaconda3/envs/datamining/lib/python3.7/site-packages/ipykernel_launcher.py:2: SettingWithCopyWarning: \n",
      "A value is trying to be set on a copy of a slice from a DataFrame.\n",
      "Try using .loc[row_indexer,col_indexer] = value instead\n",
      "\n",
      "See the caveats in the documentation: https://pandas.pydata.org/pandas-docs/stable/user_guide/indexing.html#returning-a-view-versus-a-copy\n",
      "  \n"
     ]
    }
   ],
   "source": [
    "# new GB column\n",
    "wind_subset_time['GB'] = wind_subset_time[GB_cols].sum(axis=1)"
   ]
  },
  {
   "cell_type": "code",
   "execution_count": 282,
   "metadata": {},
   "outputs": [],
   "source": [
    "wind_semi_final = wind_subset_time.drop(columns=DE_cols+DK_cols+IT_cols+GB_cols+IE_cols+NO_cols+SE_cols)"
   ]
  },
  {
   "cell_type": "markdown",
   "metadata": {},
   "source": [
    "Drop countries that still have too many null values by finding a threshold"
   ]
  },
  {
   "cell_type": "code",
   "execution_count": 283,
   "metadata": {},
   "outputs": [
    {
     "data": {
      "text/plain": [
       "region\n",
       "NL    0.997292\n",
       "ME    0.829080\n",
       "IT    0.622828\n",
       "MK    0.513913\n",
       "BE    0.358942\n",
       "CY    0.301243\n",
       "IE    0.275464\n",
       "HU    0.221838\n",
       "LT    0.208000\n",
       "CH    0.196571\n",
       "RO    0.193394\n",
       "SI    0.191070\n",
       "BG    0.190942\n",
       "GR    0.189791\n",
       "SE    0.188917\n",
       "LV    0.187488\n",
       "EE    0.184865\n",
       "FI    0.184759\n",
       "ES    0.184652\n",
       "PT    0.178703\n",
       "PL    0.015416\n",
       "FR    0.015395\n",
       "DK    0.013881\n",
       "DE    0.000128\n",
       "CZ    0.000064\n",
       "GB    0.000000\n",
       "AT    0.000000\n",
       "dtype: float64"
      ]
     },
     "execution_count": 283,
     "metadata": {},
     "output_type": "execute_result"
    }
   ],
   "source": [
    "# Require that each country have this many non-NA values.\n",
    "# threshold = must have fewer than 20% missing values\n",
    "# drop NL, ME, IT, MK, BE, CY, IE, and HU\n",
    "wind_semi_final.isnull().sum().sort_values(ascending=False)/wind_final.shape[0]#.mean()"
   ]
  },
  {
   "cell_type": "code",
   "execution_count": 285,
   "metadata": {},
   "outputs": [],
   "source": [
    "wind_final = wind_semi_final.drop(columns=['NL','ME','IT','MK','BE','CY','IE','HU'])"
   ]
  },
  {
   "cell_type": "code",
   "execution_count": 286,
   "metadata": {},
   "outputs": [],
   "source": [
    "# fill missing values\n",
    "wind_final.fillna(0.0, inplace=True)"
   ]
  },
  {
   "cell_type": "markdown",
   "metadata": {},
   "source": [
    "Save to file"
   ]
  },
  {
   "cell_type": "code",
   "execution_count": 103,
   "metadata": {},
   "outputs": [],
   "source": [
    "wind_final.to_csv('wind_generation.csv')\n",
    "solar_final.to_csv('solar_generation.csv')"
   ]
  },
  {
   "cell_type": "code",
   "execution_count": null,
   "metadata": {},
   "outputs": [],
   "source": []
  }
 ],
 "metadata": {
  "kernelspec": {
   "display_name": "Python 3",
   "language": "python",
   "name": "python3"
  },
  "language_info": {
   "codemirror_mode": {
    "name": "ipython",
    "version": 3
   },
   "file_extension": ".py",
   "mimetype": "text/x-python",
   "name": "python",
   "nbconvert_exporter": "python",
   "pygments_lexer": "ipython3",
   "version": "3.7.4"
  }
 },
 "nbformat": 4,
 "nbformat_minor": 4
}
